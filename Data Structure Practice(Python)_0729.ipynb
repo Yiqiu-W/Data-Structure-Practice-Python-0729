{
 "cells": [
  {
   "cell_type": "markdown",
   "id": "e039922d",
   "metadata": {},
   "source": [
    "#  Lists\n",
    "- Ordered\n",
    "- all elements are mutable (changed)\n",
    "- Always in [ ]\n",
    "- output is also a list\n",
    " \n",
    " Example: Shopping Cart, Task Management"
   ]
  },
  {
   "cell_type": "code",
   "execution_count": 2,
   "id": "3e5a702d",
   "metadata": {},
   "outputs": [
    {
     "name": "stdout",
     "output_type": "stream",
     "text": [
      "1\n",
      "[1, 2, 3, 4, 5, 6]\n",
      "[1, 3, 4, 5, 6]\n",
      "[3, 4, 5]\n"
     ]
    }
   ],
   "source": [
    "# Creating a list\n",
    "my_list = [1, 2, 3, 4, 5]\n",
    "    \n",
    "# Accessing elements\n",
    "print(my_list[0])  # Output: 1\n",
    "    \n",
    "# Adding elements\n",
    "my_list.append(6)\n",
    "print(my_list)  # Output: [1, 2, 3, 4, 5, 6]\n",
    "\n",
    "# Removing elements\n",
    "my_list.remove(2)\n",
    "print(my_list)  # Output: [1, 3, 4, 5, 6]\n",
    "    \n",
    "# Slicing\n",
    "print(my_list[1:4])  # Output: [3, 4, 5]"
   ]
  },
  {
   "cell_type": "markdown",
   "id": "81b97574",
   "metadata": {},
   "source": [
    "**Quest: create a list with a name \"tasks\" and add elements like \"buy groceries\", \"cleaning\", \"pay bills\". Then use append funtion to add extra element \"cooking\" to the same list.**"
   ]
  },
  {
   "cell_type": "code",
   "execution_count": 27,
   "id": "cb63bbaa",
   "metadata": {},
   "outputs": [
    {
     "name": "stdout",
     "output_type": "stream",
     "text": [
      "['buy groceries', 'cleaning', 'pay bills']\n",
      "['buy groceries', 'cleaning', 'pay bills', 'cooking']\n"
     ]
    }
   ],
   "source": [
    "# create \"tasks\" list\n",
    "tasks = [\"buy groceries\", \"cleaning\", \"pay bills\"]\n",
    "print(tasks)\n",
    "\n",
    "# add \"cooking\" to the list\n",
    "tasks.append(\"cooking\")\n",
    "print(tasks)"
   ]
  },
  {
   "cell_type": "markdown",
   "id": "c06dde9c",
   "metadata": {},
   "source": [
    "#  Tuples\n",
    "- cannot be changed (unmutable)\n",
    "- heterogenous elements are stored\n",
    "- always created within ( )\n",
    "- Only you can access the elements\n",
    "\n",
    " Example: Geographic Coordinates, Database storage"
   ]
  },
  {
   "cell_type": "code",
   "execution_count": null,
   "id": "fbdfb903",
   "metadata": {},
   "outputs": [],
   "source": [
    "# Creating a tuple\n",
    "my_tuple = (1, 2, 3, 4, 5)\n",
    "\n",
    "# Accessing elements\n",
    "print(my_tuple[0])  # Output: 1\n",
    "\n",
    "# Tuples are immutable\n",
    "# my_tuple[1] = 10  # This will raise a TypeError\n",
    "\n",
    "# Slicing\n",
    "print(my_tuple[1:4])  # Output: (2, 3, 4)"
   ]
  },
  {
   "cell_type": "markdown",
   "id": "2b3193eb",
   "metadata": {},
   "source": [
    "**Quest: create a tuple of geographic coordinates with a name \"location\" & coordiantes \"70.12345\",\"-71.23167\". Now perform functions to access first at position 0 and then at position 1.**"
   ]
  },
  {
   "cell_type": "code",
   "execution_count": 28,
   "id": "40346052",
   "metadata": {},
   "outputs": [
    {
     "name": "stdout",
     "output_type": "stream",
     "text": [
      "70.12345\n",
      "-71.23167\n"
     ]
    }
   ],
   "source": [
    "location = (\"70.12345\",\"-71.23167\")\n",
    "\n",
    "# access the elements\n",
    "print(location[0])\n",
    "print(location[1])"
   ]
  },
  {
   "cell_type": "markdown",
   "id": "1bbeae0d",
   "metadata": {},
   "source": [
    "#  Dictionaries\n",
    "- can be created in { }\n",
    "- created in pair of Keys : Values\n",
    "- they are mutable\n",
    "- keys are always unique, values can be duplicated\n",
    "\n",
    "Example: Movie database, Books database"
   ]
  },
  {
   "cell_type": "code",
   "execution_count": 3,
   "id": "7cc6a83c",
   "metadata": {},
   "outputs": [
    {
     "name": "stdout",
     "output_type": "stream",
     "text": [
      "Alice\n",
      "{'name': 'Alice', 'age': 25, 'city': 'New York', 'email': 'alice@example.com'}\n",
      "{'name': 'Alice', 'city': 'New York', 'email': 'alice@example.com'}\n"
     ]
    }
   ],
   "source": [
    "# Creating a dictionary\n",
    "my_dict = {'name': 'Alice', \n",
    "           'age': 25, \n",
    "           'city': 'New York'}\n",
    "\n",
    "# Accessing values\n",
    "print(my_dict['name'])  # Output: Alice\n",
    "\n",
    "# Adding key-value pairs\n",
    "my_dict['email'] = 'alice@example.com'\n",
    "print(my_dict)  # Output: {'name': 'Alice', 'age': 25, 'city': 'New York', 'email': 'alice@example.com'}\n",
    "\n",
    "# Removing key-value pairs\n",
    "del my_dict['age']\n",
    "print(my_dict)  # Output: {'name': 'Alice', 'city': 'New York', 'email': 'alice@example.com'}"
   ]
  },
  {
   "cell_type": "markdown",
   "id": "40d1ec59",
   "metadata": {},
   "source": [
    "**Quest: create a dictionary of Book Dataset, where you can where you can take book title along with their genre and at least add 5 books to it.**"
   ]
  },
  {
   "cell_type": "code",
   "execution_count": 30,
   "id": "d68cccbf",
   "metadata": {},
   "outputs": [
    {
     "name": "stdout",
     "output_type": "stream",
     "text": [
      "{'THE NEW GIRL': 'Comics', 'The Diary of a Young Girl': 'Classics', 'Bright and Tender Dark': 'Crime', 'Of Jade and Dragons': 'Fantasy', 'White Octopus': 'Poetry'}\n"
     ]
    }
   ],
   "source": [
    "book_dataset = {\"THE NEW GIRL\": \"Comics\",\n",
    "                \"The Diary of a Young Girl\": \"Classics\",\n",
    "                \"Bright and Tender Dark\": \"Crime\",\n",
    "                \"Of Jade and Dragons\": \"Fantasy\",\n",
    "                \"White Octopus\": \"Poetry\"}\n",
    "print(book_dataset)"
   ]
  },
  {
   "cell_type": "markdown",
   "id": "c9cd084f",
   "metadata": {},
   "source": [
    "#  Sets\n",
    "- unordered elements\n",
    "- unique elements\n",
    "- mutable\n",
    "- no indexing\n",
    "\n",
    "Example: Social Media Analytics, Website Analytics"
   ]
  },
  {
   "cell_type": "code",
   "execution_count": 4,
   "id": "431995e8",
   "metadata": {},
   "outputs": [
    {
     "name": "stdout",
     "output_type": "stream",
     "text": [
      "{1, 2, 3, 4, 5, 6}\n",
      "{1, 2, 4, 5, 6}\n",
      "{4, 5, 6}\n",
      "{1, 2, 4, 5, 6, 7, 8}\n",
      "{1, 2}\n",
      "{8, 7}\n"
     ]
    }
   ],
   "source": [
    "# Creating a set\n",
    "my_set = {1, 2, 3, 4, 5}\n",
    "\n",
    "# Adding elements\n",
    "my_set.add(6)\n",
    "print(my_set)  # Output: {1, 2, 3, 4, 5, 6}\n",
    "\n",
    "# Removing elements\n",
    "my_set.remove(3)\n",
    "print(my_set)  # Output: {1, 2, 4, 5, 6}\n",
    "\n",
    "# Set operations\n",
    "another_set = {4, 5, 6, 7, 8}\n",
    "print(my_set & another_set)  # Output: {4, 5, 6} (intersection)\n",
    "print(my_set | another_set)  # Output: {1, 2, 4, 5, 6, 7, 8} (union)\n",
    "print(my_set - another_set)  # Output: {1, 2} (difference)\n",
    "print(another_set - my_set) # Output: {8, 7} (difference)"
   ]
  },
  {
   "cell_type": "code",
   "execution_count": 5,
   "id": "03f84322",
   "metadata": {},
   "outputs": [
    {
     "name": "stdout",
     "output_type": "stream",
     "text": [
      "{'name': 'Alice', 'age': 25, 'city': 'New York'}\n",
      "{'Akalu': (80, 91, 88), 'Sam': (82, 92, 93)}\n"
     ]
    }
   ],
   "source": [
    "## How can you convert a list of tuples into a dictionary in Python?\n",
    "list_of_tuples = [('name', 'Alice'), ('age', 25), ('city', 'New York')]\n",
    "my_dict = dict(list_of_tuples)\n",
    "print(my_dict)  # Output: {'name': 'Alice', 'age': 25, 'city': 'New York'}\n",
    "\n",
    "students = [('Akalu', (80, 91, 88)), ('Sam', (82, 92, 93))]\n",
    "students_dict = {names: grades for names, grades in students}\n",
    "print(students_dict)"
   ]
  },
  {
   "cell_type": "code",
   "execution_count": 7,
   "id": "a5bac83e",
   "metadata": {},
   "outputs": [
    {
     "name": "stdout",
     "output_type": "stream",
     "text": [
      "{'name': 'Alice', 'age': 25, 'city': 'New York', 'email': 'alice@example.com'}\n",
      "{'name': 'Alice', 'age': 25, 'city': 'New York', 'email': 'alice@example.com'}\n"
     ]
    }
   ],
   "source": [
    "## How can you merge two dictionaries in Python?\n",
    "dict1 = {'name': 'Alice', 'age': 25}\n",
    "dict2 = {'city': 'New York', 'email': 'alice@example.com'}\n",
    "\n",
    "# Using update()\n",
    "dict1.update(dict2)\n",
    "print(dict1)  # Output:  {'name': 'Alice', 'age': 25, 'city': 'New York', 'email': 'alice@example.com'}\n",
    "\n",
    "# Using dictionary unpacking (Python 3.5+)\n",
    "merged_dict = {**dict1, **dict2}\n",
    "print(merged_dict)  # Output: {'name': 'Alice', 'age': 25, 'city': 'New York', 'email': 'alice@example.com'}"
   ]
  },
  {
   "cell_type": "markdown",
   "id": "b7070ce5",
   "metadata": {},
   "source": [
    "# What are the main differences between lists and tuples in Python?\n",
    "Answer:\n",
    "\n",
    "- Mutability: Lists are mutable (elements can be changed), whereas tuples are immutable (elements cannot be changed).\n",
    "- Syntax: Lists use square brackets [], while tuples use parentheses ().\n",
    "- Performance: Tuples are generally faster than lists because they are immutable.\n",
    "- Usage: Tuples are used for heterogeneous data (different data types), and lists are used for homogeneous data (similar data types)."
   ]
  },
  {
   "cell_type": "code",
   "execution_count": 6,
   "id": "1934eea0",
   "metadata": {},
   "outputs": [
    {
     "name": "stdout",
     "output_type": "stream",
     "text": [
      "[5, 4, 3, 2, 1]\n",
      "[5, 4, 3, 2, 1]\n"
     ]
    }
   ],
   "source": [
    "# How do you reverse a list in Python?\n",
    "my_list = [1, 2, 3, 4, 5]\n",
    "\n",
    "# Using reverse() method\n",
    "my_list.reverse()\n",
    "print(my_list)  # Output: [5, 4, 3, 2, 1]\n",
    "\n",
    "# Using slicing\n",
    "my_list = [1, 2, 3, 4, 5]\n",
    "reversed_list = my_list[::-1]\n",
    "print(reversed_list)  # Output: [5, 4, 3, 2, 1]"
   ]
  },
  {
   "cell_type": "code",
   "execution_count": 8,
   "id": "179de57b",
   "metadata": {},
   "outputs": [
    {
     "name": "stdout",
     "output_type": "stream",
     "text": [
      "[9, 5, 4, 3, 1, 1]\n",
      "[1, 1, 3, 4, 5, 9]\n"
     ]
    }
   ],
   "source": [
    "# How can you sort a list in Python?\n",
    "my_list = [3, 1, 4, 1, 5, 9]\n",
    "\n",
    "# Using sort() method (sorts in-place)\n",
    "my_list.sort(reverse=True)\n",
    "print(my_list)  # Output: [9, 5, 4, 3, 1, 1]\n",
    "\n",
    "# Using sorted() function (returns a new sorted list)\n",
    "sorted_list = sorted(my_list)\n",
    "print(sorted_list)  # Output: [1, 1, 3, 4, 5, 9]"
   ]
  },
  {
   "cell_type": "code",
   "execution_count": 9,
   "id": "23aad737",
   "metadata": {},
   "outputs": [
    {
     "name": "stdout",
     "output_type": "stream",
     "text": [
      "(1, 2, 3, 4, 5, 6)\n"
     ]
    }
   ],
   "source": [
    "# How can you concatenate two tuples in Python?\n",
    "tuple1 = (1, 2, 3)\n",
    "tuple2 = (4, 5, 6)\n",
    "concatenated_tuple = tuple1 + tuple2\n",
    "print(concatenated_tuple)  # Output: (1, 2, 3, 4, 5, 6)"
   ]
  },
  {
   "cell_type": "markdown",
   "id": "fc7934c0",
   "metadata": {},
   "source": [
    "# Practice"
   ]
  },
  {
   "cell_type": "markdown",
   "id": "93d0e231",
   "metadata": {},
   "source": [
    " **Lists:**\n",
    " \n",
    " Question - Appending and Removing Elements: Create an empty list called my_list. Append\n",
    " the numbers 1, 2, and 3 to my_list. Then remove the number 2 from the list."
   ]
  },
  {
   "cell_type": "code",
   "execution_count": 11,
   "id": "9c5d89c7",
   "metadata": {},
   "outputs": [
    {
     "name": "stdout",
     "output_type": "stream",
     "text": [
      "[]\n",
      "[1, 2, 3]\n",
      "[1, 3]\n"
     ]
    }
   ],
   "source": [
    "# create one empty list\n",
    "my_list = []\n",
    "print(my_list)      #[]\n",
    "\n",
    "# append 1,2,3  # one number at a time\n",
    "my_list.append(1)\n",
    "my_list.append(2)\n",
    "my_list.append(3)\n",
    "print(my_list)      #[1,2,3]\n",
    "\n",
    "# remove 2\n",
    "my_list.remove(2)\n",
    "print(my_list)      #[1,3]"
   ]
  },
  {
   "cell_type": "markdown",
   "id": "f48deba5",
   "metadata": {},
   "source": [
    " Question- Accessing Elements: Create a list called fruits containing the strings \"apple\",\n",
    " \"banana\", \"cherry\", \"date\". Print the second element of the list."
   ]
  },
  {
   "cell_type": "code",
   "execution_count": 12,
   "id": "d883bf0a",
   "metadata": {},
   "outputs": [
    {
     "name": "stdout",
     "output_type": "stream",
     "text": [
      "banana\n"
     ]
    }
   ],
   "source": [
    "# A list called \"fruits\" with elements\n",
    "fruits = [\"apple\",\"banana\",\"cherry\",\"date\"]\n",
    "\n",
    "# the second element = position 1   # \"apple\" in position 0\n",
    "print(fruits[1])    #banana"
   ]
  },
  {
   "cell_type": "markdown",
   "id": "5a4abdc2",
   "metadata": {},
   "source": [
    "Question- Slicing: Create a list called numbers containing the numbers from 1 to 10. Print a slice of the list containing elements from the third element to the sixth element."
   ]
  },
  {
   "cell_type": "code",
   "execution_count": 21,
   "id": "42bf7046",
   "metadata": {},
   "outputs": [
    {
     "name": "stdout",
     "output_type": "stream",
     "text": [
      "[1, 2, 3, 4, 5, 6, 7, 8, 9, 10]\n",
      "[3, 4, 5, 6]\n"
     ]
    }
   ],
   "source": [
    "# A list called \"numbers\" with numbers\n",
    "numbers = list(range(1,11))\n",
    "print(numbers)\n",
    "# numbers = [1,2,3,4,5,6,7,8,9,10]\n",
    "\n",
    "# the third element to the sixth element = position 2-5\n",
    "print(numbers[2:6])       # [3, 4, 5, 6]"
   ]
  },
  {
   "cell_type": "markdown",
   "id": "bf215abc",
   "metadata": {},
   "source": [
    "**Sets**\n",
    "\n",
    "Question - Adding and Removing Elements: Create an empty set called my_set. Add the numbers 1, 2, and 3 to my_set. Then remove the number 2 from the set."
   ]
  },
  {
   "cell_type": "code",
   "execution_count": 20,
   "id": "da549faf",
   "metadata": {},
   "outputs": [
    {
     "name": "stdout",
     "output_type": "stream",
     "text": [
      "{1, 2, 3}\n",
      "{1, 3}\n"
     ]
    }
   ],
   "source": [
    "# create an empty set\n",
    "my_set = set()\n",
    "# I cannot use my_set = {}. this is recognized as a dictionary\n",
    "\n",
    "# add 1,2,3\n",
    "my_set.add(1)\n",
    "my_set.add(2)\n",
    "my_set.add(3)\n",
    "print(my_set)   # {1, 2, 3}\n",
    "\n",
    "# remove 2\n",
    "my_set.remove(2)\n",
    "print(my_set)   # {1, 3}"
   ]
  },
  {
   "cell_type": "markdown",
   "id": "4367c3e3",
   "metadata": {},
   "source": [
    "Question - Operations: Create two sets called set1 and set2, each containing a few numbers. Print the union, intersection, and difference of the two sets."
   ]
  },
  {
   "cell_type": "code",
   "execution_count": 22,
   "id": "778a2340",
   "metadata": {},
   "outputs": [
    {
     "name": "stdout",
     "output_type": "stream",
     "text": [
      "{2, 5}\n",
      "{1, 2, 3, 5, 7, 9, 11, 13}\n",
      "{1, 11, 9}\n",
      "{3, 13, 7}\n"
     ]
    }
   ],
   "source": [
    "# create two sets\n",
    "set1 = {1,2,5,9,11}\n",
    "set2 = {2,3,5,7,13}\n",
    "\n",
    "# union\n",
    "print(set1 & set2) # {2, 5}\n",
    "\n",
    "# intersection\n",
    "print(set1 | set2) # {1, 2, 3, 5, 7, 9, 11, 13}\n",
    "\n",
    "# differences\n",
    "print(set1 - set2) # {1, 11, 9}\n",
    "print(set2 - set1) # {3, 13, 7}"
   ]
  },
  {
   "cell_type": "markdown",
   "id": "97bb7ed4",
   "metadata": {},
   "source": [
    "**Tuples**\n",
    " \n",
    "Question - Accessing Elements: Create a tuple called coordinates containing the latitude and longitude of a location (e.g., (40.7128, -74.0060) for New York City). Print the latitude and longitude separately."
   ]
  },
  {
   "cell_type": "code",
   "execution_count": 29,
   "id": "34bae3fa",
   "metadata": {},
   "outputs": [
    {
     "name": "stdout",
     "output_type": "stream",
     "text": [
      "40.7128\n",
      "-74.0060\n"
     ]
    }
   ],
   "source": [
    "# create a tuple\n",
    "coordinates = (\"40.7128\", \"-74.0060\")\n",
    "\n",
    "# print the latitude and longitude # first + second element = position 0 + 1\n",
    "print(coordinates[0])\n",
    "print(coordinates[1])"
   ]
  },
  {
   "cell_type": "markdown",
   "id": "20ca6b09",
   "metadata": {},
   "source": [
    "Question - Packing and Unpacking: Create a tuple called person containing information about a person, such as their name, age, and city. Then unpack the tuple into individual variables."
   ]
  },
  {
   "cell_type": "code",
   "execution_count": 24,
   "id": "4764001b",
   "metadata": {},
   "outputs": [
    {
     "name": "stdout",
     "output_type": "stream",
     "text": [
      "Yiqiu\n",
      "24\n",
      "Norrköping\n"
     ]
    }
   ],
   "source": [
    "# create a tuple\n",
    "person = (\"Yiqiu\", 24, \"Norrköping\")\n",
    "\n",
    "# name the individual variables\n",
    "name,age,city = person\n",
    "\n",
    "# print the variables\n",
    "print(name)\n",
    "print(age)\n",
    "print(city)"
   ]
  }
 ],
 "metadata": {
  "kernelspec": {
   "display_name": "Python 3 (ipykernel)",
   "language": "python",
   "name": "python3"
  },
  "language_info": {
   "codemirror_mode": {
    "name": "ipython",
    "version": 3
   },
   "file_extension": ".py",
   "mimetype": "text/x-python",
   "name": "python",
   "nbconvert_exporter": "python",
   "pygments_lexer": "ipython3",
   "version": "3.11.5"
  }
 },
 "nbformat": 4,
 "nbformat_minor": 5
}
